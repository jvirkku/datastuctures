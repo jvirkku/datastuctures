{
 "cells": [
  {
   "cell_type": "code",
   "execution_count": 1,
   "id": "49ab1e03-4fe1-4763-9694-934c06b922df",
   "metadata": {},
   "outputs": [
    {
     "name": "stdout",
     "output_type": "stream",
     "text": [
      "Number did not enter the lotery pool\n"
     ]
    }
   ],
   "source": [
    "#In this scenario the school organizes a lottery.\n",
    "#Each participant pull out a number, reads it out to the organizer, which then notes it down along with the participant's name.\n",
    "#After a couple days the organizer selects the winning number the number the participants pulled out will determine the winner.\n",
    "#Due to the large number of participants, the organizers will anounce the results publicly to ensure everyone can hear them.\n",
    "#After choosing pulling the winning number, they need to find who has the winning number.\n",
    "\n",
    "#A dictionary with the names of the participants and the number they pulled.\n",
    "lottery_winners = {\n",
    "    'Jukka': 12345,\n",
    "    'Riku': 54321,\n",
    "    'Miko': 11111,\n",
    "    'Helmi': 22222,\n",
    "    'Meri': 33333,\n",
    "    'Hilla': 44444,\n",
    "    'Eetu': 55555,\n",
    "    'Jarno': 66666\n",
    "}\n",
    "\n",
    "#infinite loop for the input. Loop reads the input as integer(x).\n",
    "#If it succeesd (meaning, if the inputed value is an intiger) the loop ends, and the value is saved.\n",
    "#if the input isn't an intiger, it raises value error.\n",
    "#if value error is raised, prints the message \"Please enter a valid number\" and the loop repeats\n",
    "#and a gap is left between the printout and the input window for clarity\n",
    "#the loop ends when an integer is inputed\n",
    "\n",
    "while True:\n",
    "    try:\n",
    "        x = int(input(\"Enter the winning number: \"))\n",
    "        break\n",
    "    except ValueError:\n",
    "        print(\"\\nPlease enter a valid number. The lottery numbers are 5 digits long\")\n",
    "        print()\n",
    "\n",
    "\n",
    "#Changes the \"lottery_winners\" dictionary to a list of tuples, for searching purposes.\n",
    "winners_list = list(lottery_winners.items())\n",
    "\n",
    "#N as the length of the list of tuples\n",
    "n = len(winners_list)\n",
    "\n",
    "#Search function.\n",
    "#The function will go through each pulled out number element ([1]) in a list of tuples.\n",
    "#If an element matches the inputed winning number it returns it's position.\n",
    "#If the function runs out on pulled out number elements in the list of tuples and doesn't find a match, it returns -1 to ensure it doesnt return\n",
    "#any value already existing in a tuple.\n",
    "\n",
    "def LinearSearch(winners_list, n, x):\n",
    "    for i in range(0, n):\n",
    "        if winners_list[i][1] == x:\n",
    "            return i\n",
    "    return -1\n",
    "\n",
    "#winner as the result of the LinearSearch function.\n",
    "winner = LinearSearch(winners_list, n, x)\n",
    "\n",
    "\n",
    "#If the result of the search function (aka winner) was 1, returns the message \"Number did not enter the lotery pool\"\n",
    "#as it isn't located anywhere in the list of tuples\n",
    "#if it returns anything else than 1, it prints the message \"Winner:\" and prints name ([0]) the element with the position of the returned value \n",
    "#and a gap is left between the printout and the input window for clarity\n",
    "if winner == -1:\n",
    "    print(\"Number did not enter the lotery pool\")\n",
    "else:\n",
    "    print(\"Winner: \", winners_list[winner][0])\n",
    "    print()"
   ]
  },
  {
   "cell_type": "markdown",
   "id": "9f703eb6-067e-4bae-87e2-5d30bb1ba42c",
   "metadata": {},
   "source": [
    "when inputing evey value in the example dictionary:\n",
    "The correct names are printed out (Jukka for 12345, Riku for 54321 etc.)\n",
    "\n",
    "When the number isn't an integer\n",
    "the message \"Please enter a valid number. The lottery numbers are 5 digits long\" prints out and the input window appears again"
   ]
  },
  {
   "cell_type": "markdown",
   "id": "bc13b48b",
   "metadata": {},
   "source": [
    "TEST CASES\n",
    "\n",
    "Non int input | when inputing ~~~, vbidgvkz, ?????ww | prints out \"Please enter a valid number. The lottery numbers are 5 digits long\"\n",
    "Inputed the name of the participant | Hilla | prints out \"Please enter a valid number. The lottery numbers are 5 digits long\"\n",
    "Inputed a valid number | 12345 | Correctly matches the winner"
   ]
  }
 ],
 "metadata": {
  "kernelspec": {
   "display_name": "Python 3",
   "language": "python",
   "name": "python3"
  },
  "language_info": {
   "codemirror_mode": {
    "name": "ipython",
    "version": 3
   },
   "file_extension": ".py",
   "mimetype": "text/x-python",
   "name": "python",
   "nbconvert_exporter": "python",
   "pygments_lexer": "ipython3",
   "version": "3.11.9"
  }
 },
 "nbformat": 4,
 "nbformat_minor": 5
}
