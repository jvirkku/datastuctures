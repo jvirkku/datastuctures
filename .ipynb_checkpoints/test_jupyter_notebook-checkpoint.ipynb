{
 "cells": [
  {
   "cell_type": "markdown",
   "metadata": {},
   "source": [
    "### Trees"
   ]
  },
  {
   "cell_type": "code",
   "execution_count": null,
   "metadata": {},
   "outputs": [],
   "source": [
    "from graphviz import Digraph\n",
    "from IPython.display import SVG\n",
    "\n",
    "%load_ext heat\n",
    "%%heat\n",
    "# #This data structure represents a tree, and in this case a family tree. Ancestor, parents and children can be added and the tree can be \n",
    "# visualized with Graphviz. Nodes can not be deleted due to the nature of this scenario (you dont want to delete people from family tree obviously).\n",
    "# In this scenario there is always only one parent and children because everyone is divorced \n",
    "\n",
    "class Person: #initialized a node into the tree\n",
    "    def __init__(self, name):\n",
    "        self.name = name #name of a person\n",
    "        self.children = []  # A family member can have multiple children\n",
    "\n",
    "class FamilyTree:\n",
    "    def __init__(self, root_name):\n",
    "        self.root = Person(root_name) #when creating an istance of this class, it takes an ancestor as argument and now the ancestor is a root\n",
    "\n",
    "    def add_child(self, parent_name, child_name):\n",
    "        \"\"\" Add a child to a parent node in the family tree.\"\"\"\n",
    "\n",
    "        parent_node = self._find(self.root, parent_name) #find parent node with parent name that the children belongs to by recursively travelling through the tree\n",
    "        if parent_node: #if parent is found -> add a child to the children list of that parent\n",
    "            parent_node.children.append(Person(child_name))\n",
    "        else:\n",
    "            print(f\"Parent '{parent_name}' not found in the tree.\")\n",
    "\n",
    "    def _find(self, current_person, wanted):\n",
    "        \"\"\" Helper method to find a node by name.\"\"\"\n",
    "\n",
    "        if current_person.name == wanted: #current being the node in search, compared to the one we want to find\n",
    "            return current_person\n",
    "        # if the previous condition is false, so the current node is not the one we are looking for, we travel through the children of the current person\n",
    "        for child in current_person.children: #loop through list of children and find specific child\n",
    "            result = self._find(child, wanted) #using recursion we can travel through all children\n",
    "            if result:\n",
    "                return result\n",
    "        return None\n",
    "\n",
    "\n",
    "    def visualize(self):\n",
    "        \"\"\"Visualize the family tree using Graphviz.\"\"\"\n",
    "\n",
    "        dot = Digraph(comment='Family Tree')\n",
    "\n",
    "        def add_nodes_edges(node):\n",
    "            if node is None:\n",
    "                return\n",
    "            dot.node(node.name, node.name)  # Create a node for each family member\n",
    "            for child in node.children:\n",
    "                dot.edge(node.name, child.name)  # Create an edge between parent and child\n",
    "                add_nodes_edges(child)\n",
    "\n",
    "        add_nodes_edges(self.root)\n",
    "        return SVG(dot.pipe(format='svg'))\n",
    "\n",
    "\n",
    "\n",
    "# Initialize family tree with root ancestor\n",
    "family_tree = FamilyTree(\"Grandparent Sally\")\n",
    "\n",
    "# Add children and grandchildren\n",
    "family_tree.add_child(\"Grandparent Sally\", \"Lisa\")\n",
    "family_tree.add_child(\"Grandparent Sally\", \"Tim\")\n",
    "family_tree.add_child(\"Lisa\", \"Bob\")\n",
    "family_tree.add_child(\"Tim\", \"Sara\")\n",
    "family_tree.add_child(\"Tim\", \"Lara\")\n",
    "\n",
    "\n",
    "# Visualize the family tree (requires Graphviz installed)\n",
    "family_tree.visualize()"
   ]
  },
  {
   "cell_type": "code",
   "execution_count": null,
   "metadata": {},
   "outputs": [],
   "source": []
  }
 ],
 "metadata": {
  "kernelspec": {
   "display_name": "Python 3 (ipykernel)",
   "language": "python",
   "name": "python3"
  },
  "language_info": {
   "codemirror_mode": {
    "name": "ipython",
    "version": 3
   },
   "file_extension": ".py",
   "mimetype": "text/x-python",
   "name": "python",
   "nbconvert_exporter": "python",
   "pygments_lexer": "ipython3",
   "version": "3.11.7"
  }
 },
 "nbformat": 4,
 "nbformat_minor": 4
}
